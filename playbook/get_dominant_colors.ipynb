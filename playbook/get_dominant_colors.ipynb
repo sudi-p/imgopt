{
 "cells": [
  {
   "cell_type": "code",
   "id": "initial_id",
   "metadata": {
    "collapsed": true,
    "ExecuteTime": {
     "end_time": "2024-07-07T17:14:24.882443Z",
     "start_time": "2024-07-07T17:14:24.878842Z"
    }
   },
   "source": [
    "colors = ['#d8cac7', '#d49426', '#3b2c29', '#9b590d', '#8e817f']\n",
    "colors_str = \", \".join(colors)"
   ],
   "outputs": [],
   "execution_count": 2
  },
  {
   "metadata": {
    "ExecuteTime": {
     "end_time": "2024-07-07T17:14:53.184718Z",
     "start_time": "2024-07-07T17:14:53.181551Z"
    }
   },
   "cell_type": "code",
   "source": [
    "prompt_template = (\n",
    "        \"This is my list of dominant colors of a product image {}. \"\n",
    "        \"Generate colors to use in the background and text color based on the dominant colors. \"\n",
    "        \"The result must be a Python dictionary with the keys background_color and text_color. \"\n",
    "        \"Give me the object only in output. I want to use this object directly in code. Don't give extra text. \"\n",
    "        \"The output should start with '{{' and end with '}}'.\"\n",
    "    )\n",
    "prompt = prompt_template.format(colors_str)"
   ],
   "id": "33bc0cbee1427987",
   "outputs": [],
   "execution_count": 4
  },
  {
   "metadata": {
    "ExecuteTime": {
     "end_time": "2024-07-07T17:15:15.194786Z",
     "start_time": "2024-07-07T17:15:15.191872Z"
    }
   },
   "cell_type": "code",
   "source": [
    "input = {\n",
    "    \"prompt\": prompt,\n",
    "    \"max_new_tokens\": 512,\n",
    "    \"system_prompt\": (\n",
    "      \"You are expert on graphic designing\"\n",
    "    ),\n",
    "}"
   ],
   "id": "81ec4b457e1d3cfa",
   "outputs": [],
   "execution_count": 5
  },
  {
   "metadata": {
    "ExecuteTime": {
     "end_time": "2024-07-07T18:01:41.230517Z",
     "start_time": "2024-07-07T18:01:40.457136Z"
    }
   },
   "cell_type": "code",
   "source": [
    "import replicate\n",
    "result = \"\"\n",
    "\n",
    "client = replicate.Client(api_token=\"r8_22845LdY9rGKpWBfuvgs3He7fiUKAOA4VT2vj\")\n",
    "for event in client.stream(\"meta/meta-llama-3-8b-instruct\", input=input):\n",
    "  result += str(event)"
   ],
   "id": "b2f8af260854f784",
   "outputs": [],
   "execution_count": 56
  },
  {
   "metadata": {
    "ExecuteTime": {
     "end_time": "2024-07-07T18:01:42.844957Z",
     "start_time": "2024-07-07T18:01:42.841462Z"
    }
   },
   "cell_type": "code",
   "source": [
    "result = result.strip()\n",
    "print(result)"
   ],
   "id": "273cc3f4350b8459",
   "outputs": [
    {
     "name": "stdout",
     "output_type": "stream",
     "text": [
      "{'background_color': '#f0f0f0', 'text_color': '#333333'}\n"
     ]
    }
   ],
   "execution_count": 57
  },
  {
   "metadata": {
    "ExecuteTime": {
     "end_time": "2024-07-07T18:00:51.441359Z",
     "start_time": "2024-07-07T18:00:51.437861Z"
    }
   },
   "cell_type": "code",
   "source": [
    "import ast\n",
    "print(result)\n",
    "result = ast.literal_eval(result)"
   ],
   "id": "35e4cb0e51f070db",
   "outputs": [
    {
     "name": "stdout",
     "output_type": "stream",
     "text": [
      "{'background_color': '#f7f5f2', 'text_color': '#333333'}\n"
     ]
    }
   ],
   "execution_count": 53
  },
  {
   "metadata": {
    "ExecuteTime": {
     "end_time": "2024-07-07T18:00:54.446522Z",
     "start_time": "2024-07-07T18:00:54.443085Z"
    }
   },
   "cell_type": "code",
   "source": "print(result, type(result))",
   "id": "461149cc46721f9e",
   "outputs": [
    {
     "name": "stdout",
     "output_type": "stream",
     "text": [
      "{'background_color': '#f7f5f2', 'text_color': '#333333'} <class 'dict'>\n"
     ]
    }
   ],
   "execution_count": 54
  },
  {
   "metadata": {},
   "cell_type": "code",
   "outputs": [],
   "execution_count": null,
   "source": "",
   "id": "b9c036a43a06d75a"
  }
 ],
 "metadata": {
  "kernelspec": {
   "display_name": "Python 3",
   "language": "python",
   "name": "python3"
  },
  "language_info": {
   "codemirror_mode": {
    "name": "ipython",
    "version": 2
   },
   "file_extension": ".py",
   "mimetype": "text/x-python",
   "name": "python",
   "nbconvert_exporter": "python",
   "pygments_lexer": "ipython2",
   "version": "2.7.6"
  }
 },
 "nbformat": 4,
 "nbformat_minor": 5
}
