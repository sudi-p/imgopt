{
 "cells": [
  {
   "cell_type": "code",
   "execution_count": 2,
   "id": "initial_id",
   "metadata": {
    "ExecuteTime": {
     "end_time": "2024-07-07T17:14:24.882443Z",
     "start_time": "2024-07-07T17:14:24.878842Z"
    },
    "collapsed": true
   },
   "outputs": [],
   "source": [
    "colors = ['#d8cac7', '#d49426', '#3b2c29', '#9b590d', '#8e817f']\n",
    "colors_str = \", \".join(colors)"
   ]
  },
  {
   "cell_type": "code",
   "execution_count": 4,
   "id": "33bc0cbee1427987",
   "metadata": {
    "ExecuteTime": {
     "end_time": "2024-07-07T17:14:53.184718Z",
     "start_time": "2024-07-07T17:14:53.181551Z"
    }
   },
   "outputs": [],
   "source": [
    "prompt_template = (\n",
    "        \"This is my list of dominant colors of a product image {}. \"\n",
    "        \"Generate colors to use in the background and text color based on the dominant colors. \"\n",
    "        \"The result must be a Python dictionary with the keys background_color and text_color. \"\n",
    "        \"Give me the object only in output. I want to use this object directly in code. Don't give extra text. \"\n",
    "        \"The output should start with '{{' and end with '}}'.\"\n",
    "    )\n",
    "prompt = prompt_template.format(colors_str)"
   ]
  },
  {
   "cell_type": "code",
   "execution_count": 5,
   "id": "81ec4b457e1d3cfa",
   "metadata": {
    "ExecuteTime": {
     "end_time": "2024-07-07T17:15:15.194786Z",
     "start_time": "2024-07-07T17:15:15.191872Z"
    }
   },
   "outputs": [],
   "source": [
    "input = {\n",
    "    \"prompt\": prompt,\n",
    "    \"max_new_tokens\": 512,\n",
    "    \"system_prompt\": (\n",
    "      \"You are expert on graphic designing\"\n",
    "    ),\n",
    "}"
   ]
  },
  {
   "cell_type": "code",
   "execution_count": 56,
   "id": "b2f8af260854f784",
   "metadata": {
    "ExecuteTime": {
     "end_time": "2024-07-07T18:01:41.230517Z",
     "start_time": "2024-07-07T18:01:40.457136Z"
    }
   },
   "outputs": [],
   "source": [
    "import replicate\n",
    "result = \"\"\n",
    "\n",
    "client = replicate.Client(api_token=\"ujj\")\n",
    "for event in client.stream(\"meta/meta-llama-3-8b-instruct\", input=input):\n",
    "  result += str(event)"
   ]
  },
  {
   "cell_type": "code",
   "execution_count": 57,
   "id": "273cc3f4350b8459",
   "metadata": {
    "ExecuteTime": {
     "end_time": "2024-07-07T18:01:42.844957Z",
     "start_time": "2024-07-07T18:01:42.841462Z"
    }
   },
   "outputs": [
    {
     "name": "stdout",
     "output_type": "stream",
     "text": [
      "{'background_color': '#f0f0f0', 'text_color': '#333333'}\n"
     ]
    }
   ],
   "source": [
    "result = result.strip()\n",
    "print(result)"
   ]
  },
  {
   "cell_type": "code",
   "execution_count": 53,
   "id": "35e4cb0e51f070db",
   "metadata": {
    "ExecuteTime": {
     "end_time": "2024-07-07T18:00:51.441359Z",
     "start_time": "2024-07-07T18:00:51.437861Z"
    }
   },
   "outputs": [
    {
     "name": "stdout",
     "output_type": "stream",
     "text": [
      "{'background_color': '#f7f5f2', 'text_color': '#333333'}\n"
     ]
    }
   ],
   "source": [
    "import ast\n",
    "print(result)\n",
    "result = ast.literal_eval(result)"
   ]
  },
  {
   "cell_type": "code",
   "execution_count": 54,
   "id": "461149cc46721f9e",
   "metadata": {
    "ExecuteTime": {
     "end_time": "2024-07-07T18:00:54.446522Z",
     "start_time": "2024-07-07T18:00:54.443085Z"
    }
   },
   "outputs": [
    {
     "name": "stdout",
     "output_type": "stream",
     "text": [
      "{'background_color': '#f7f5f2', 'text_color': '#333333'} <class 'dict'>\n"
     ]
    }
   ],
   "source": [
    "print(result, type(result))"
   ]
  },
  {
   "cell_type": "code",
   "execution_count": null,
   "id": "b9c036a43a06d75a",
   "metadata": {},
   "outputs": [],
   "source": []
  }
 ],
 "metadata": {
  "kernelspec": {
   "display_name": "Python 3",
   "language": "python",
   "name": "python3"
  },
  "language_info": {
   "codemirror_mode": {
    "name": "ipython",
    "version": 2
   },
   "file_extension": ".py",
   "mimetype": "text/x-python",
   "name": "python",
   "nbconvert_exporter": "python",
   "pygments_lexer": "ipython2",
   "version": "2.7.6"
  }
 },
 "nbformat": 4,
 "nbformat_minor": 5
}
